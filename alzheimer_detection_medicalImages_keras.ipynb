{
  "nbformat": 4,
  "nbformat_minor": 0,
  "metadata": {
    "kernelspec": {
      "display_name": "Python 3",
      "language": "python",
      "name": "python3"
    },
    "language_info": {
      "codemirror_mode": {
        "name": "ipython",
        "version": 3
      },
      "file_extension": ".py",
      "mimetype": "text/x-python",
      "name": "python",
      "nbconvert_exporter": "python",
      "pygments_lexer": "ipython3",
      "version": "3.7.6"
    },
    "colab": {
      "name": "alzheimer - detection-medicalImages - keras.ipynb",
      "provenance": [],
      "include_colab_link": true
    },
    "accelerator": "GPU"
  },
  "cells": [
    {
      "cell_type": "markdown",
      "metadata": {
        "id": "view-in-github",
        "colab_type": "text"
      },
      "source": [
        "<a href=\"https://colab.research.google.com/github/AmulPatil/Case-Studies/blob/master/alzheimer_detection_medicalImages_keras.ipynb\" target=\"_parent\"><img src=\"https://colab.research.google.com/assets/colab-badge.svg\" alt=\"Open In Colab\"/></a>"
      ]
    },
    {
      "cell_type": "code",
      "metadata": {
        "id": "kcaqbHlwa6HY",
        "colab_type": "code",
        "colab": {}
      },
      "source": [
        "!pip install tensorflow==2.3.0 -q"
      ],
      "execution_count": 1,
      "outputs": []
    },
    {
      "cell_type": "code",
      "metadata": {
        "id": "nsksjUd-bgQX",
        "colab_type": "code",
        "colab": {}
      },
      "source": [
        "!pip install kaggle"
      ],
      "execution_count": null,
      "outputs": []
    },
    {
      "cell_type": "code",
      "metadata": {
        "id": "KgB4lW6JdhgW",
        "colab_type": "code",
        "colab": {}
      },
      "source": [
        "#upload kaggle api key\n",
        "from google.colab import files\n",
        "\n",
        "files.upload()"
      ],
      "execution_count": null,
      "outputs": []
    },
    {
      "cell_type": "code",
      "metadata": {
        "id": "CJBY5JDleYx-",
        "colab_type": "code",
        "colab": {}
      },
      "source": [
        "! mkdir ~/.kaggle\n",
        "\n",
        "! cp kaggle.json ~/.kaggle/\n",
        "! chmod 600 ~/.kaggle/kaggle.json"
      ],
      "execution_count": 5,
      "outputs": []
    },
    {
      "cell_type": "code",
      "metadata": {
        "id": "mJE4OiCefHL-",
        "colab_type": "code",
        "colab": {
          "base_uri": "https://localhost:8080/",
          "height": 72
        },
        "outputId": "93200813-1523-42a4-adae-aabb4dca1297"
      },
      "source": [
        "#! kaggle competitions download -c 'alzheimers-dataset-4-class-of-images'\n",
        "!kaggle datasets download -d tourist55/alzheimers-dataset-4-class-of-images"
      ],
      "execution_count": 6,
      "outputs": [
        {
          "output_type": "stream",
          "text": [
            "Downloading alzheimers-dataset-4-class-of-images.zip to /content\n",
            "\r  0% 0.00/34.1M [00:00<?, ?B/s]\r 15% 5.00M/34.1M [00:00<00:01, 24.8MB/s]\r 35% 12.0M/34.1M [00:00<00:00, 30.7MB/s]\r 67% 23.0M/34.1M [00:00<00:00, 39.2MB/s]\n",
            "\r100% 34.1M/34.1M [00:00<00:00, 69.4MB/s]\n"
          ],
          "name": "stdout"
        }
      ]
    },
    {
      "cell_type": "code",
      "metadata": {
        "id": "r7pgBaTyfXYf",
        "colab_type": "code",
        "colab": {}
      },
      "source": [
        "!unzip alzheimers-dataset-4-class-of-images.zip"
      ],
      "execution_count": null,
      "outputs": []
    },
    {
      "cell_type": "code",
      "metadata": {
        "_cell_guid": "b1076dfc-b9ad-4769-8c92-a6c4dae69d19",
        "_uuid": "8f2839f25d086af736a60e9eeb907d3b93b6e0e5",
        "id": "UHsjVS8ha6Hv",
        "colab_type": "code",
        "colab": {
          "base_uri": "https://localhost:8080/",
          "height": 54
        },
        "outputId": "9becf304-9da4-4423-b87c-aadd4788aba6"
      },
      "source": [
        "import os\n",
        "import numpy as np\n",
        "import pandas as pd\n",
        "import tensorflow as tf\n",
        "import matplotlib.pyplot as plt\n",
        "import PIL\n",
        "\n",
        "try:\n",
        "    tpu = tf.distribute.cluster_resolver.TPUClusterResolver()\n",
        "    print('Device:', tpu.master())\n",
        "    tf.config.experimental_connect_to_cluster(tpu)\n",
        "    tf.tpu.experimental.initialize_tpu_system(tpu)\n",
        "    strategy = tf.distribute.experimental.TPUStrategy(tpu)\n",
        "except:\n",
        "    strategy = tf.distribute.get_strategy()\n",
        "print('Number of replicas:', strategy.num_replicas_in_sync)\n",
        "    \n",
        "print(tf.__version__)"
      ],
      "execution_count": 8,
      "outputs": [
        {
          "output_type": "stream",
          "text": [
            "Number of replicas: 1\n",
            "2.3.0\n"
          ],
          "name": "stdout"
        }
      ]
    },
    {
      "cell_type": "markdown",
      "metadata": {
        "id": "11Iq4hira6IC",
        "colab_type": "text"
      },
      "source": [
        "It's always a good idea to set constant variables instead of hard coding numbers into your code. It saves time later when you want to change certain parameters."
      ]
    },
    {
      "cell_type": "code",
      "metadata": {
        "_cell_guid": "79c7e3d0-c299-4dcb-8224-4455121ee9b0",
        "_uuid": "d629ff2d2480ee46fbb7e2d37f6b5fab8052498a",
        "id": "GjJmlo_va6IH",
        "colab_type": "code",
        "colab": {}
      },
      "source": [
        "AUTOTUNE = tf.data.experimental.AUTOTUNE\n",
        "BATCH_SIZE = 16 * strategy.num_replicas_in_sync\n",
        "IMAGE_SIZE = [176, 208]\n",
        "EPOCHS = 100"
      ],
      "execution_count": 9,
      "outputs": []
    },
    {
      "cell_type": "code",
      "metadata": {
        "id": "hEQNythIa6IZ",
        "colab_type": "code",
        "colab": {
          "base_uri": "https://localhost:8080/",
          "height": 90
        },
        "outputId": "66f6e1e1-8929-440f-ce37-d633a4f37086"
      },
      "source": [
        "train_ds = tf.keras.preprocessing.image_dataset_from_directory(\n",
        "    \"Alzheimer_s Dataset/train\",\n",
        "    validation_split=0.2,\n",
        "    subset=\"training\",\n",
        "    seed=1337,\n",
        "    image_size=IMAGE_SIZE,\n",
        "    batch_size=BATCH_SIZE,\n",
        ")\n",
        "\n",
        "val_ds = tf.keras.preprocessing.image_dataset_from_directory(\n",
        "    \"Alzheimer_s Dataset/train\",\n",
        "    validation_split=0.2,\n",
        "    subset=\"validation\",\n",
        "    seed=1337,\n",
        "    image_size=IMAGE_SIZE,\n",
        "    batch_size=BATCH_SIZE,\n",
        ")"
      ],
      "execution_count": 87,
      "outputs": [
        {
          "output_type": "stream",
          "text": [
            "Found 5121 files belonging to 4 classes.\n",
            "Using 4097 files for training.\n",
            "Found 5121 files belonging to 4 classes.\n",
            "Using 1024 files for validation.\n"
          ],
          "name": "stdout"
        }
      ]
    },
    {
      "cell_type": "markdown",
      "metadata": {
        "id": "H6P8GF3Ba6Ip",
        "colab_type": "text"
      },
      "source": [
        "We'll be renaming the class names and specifying the number of classes. In this case, we have 4 classes of dementia."
      ]
    },
    {
      "cell_type": "code",
      "metadata": {
        "id": "P3MiJn8ca6Iq",
        "colab_type": "code",
        "colab": {}
      },
      "source": [
        "class_names = ['MildDementia', 'ModerateDementia', 'NonDementia', 'VeryMildDementia']\n",
        "train_ds.class_names = class_names\n",
        "val_ds.class_names = class_names\n",
        "\n",
        "NUM_CLASSES = len(class_names)"
      ],
      "execution_count": 88,
      "outputs": []
    },
    {
      "cell_type": "markdown",
      "metadata": {
        "id": "V_1uqqkMa6I0",
        "colab_type": "text"
      },
      "source": [
        "# Visualize the data\n",
        "\n",
        "Now that our data has been easily loaded in, the next step is to visualize our images. This helps us understand what is being used as an input for our model. It also serves as a check to see if our images have been loaded in correctly."
      ]
    },
    {
      "cell_type": "code",
      "metadata": {
        "id": "ymSXecy9a6I1",
        "colab_type": "code",
        "colab": {
          "base_uri": "https://localhost:8080/",
          "height": 150
        },
        "outputId": "4b277caa-a751-4d6d-faa3-e1be4dd377fa"
      },
      "source": [
        "plt.figure(figsize=(10, 10))\n",
        "for images, labels in train_ds.take(1):\n",
        "  for i in range(4):\n",
        "    ax = plt.subplot(1, 4, i + 1)\n",
        "    plt.imshow(images[i].numpy().astype(\"uint8\"))\n",
        "    plt.title(train_ds.class_names[labels[i]])\n",
        "    plt.axis(\"off\")"
      ],
      "execution_count": 90,
      "outputs": [
        {
          "output_type": "display_data",
          "data": {
            "image/png": "[encoded data removed]",
            "text/plain": [
              "<Figure size 720x720 with 4 Axes>"
            ]
          },
          "metadata": {
            "tags": [],
            "needs_background": "light"
          }
        }
      ]
    },
    {
      "cell_type": "markdown",
      "metadata": {
        "id": "k9m1thhGa6I8",
        "colab_type": "text"
      },
      "source": [
        "\n",
        "\n",
        "Because we are working with categorical and noncontinuous data, we want to convert our model into one-hot encodings. One-hot encodings are a way for the model to understand that we're looking at categorial instead of continuous data. "
      ]
    },
    {
      "cell_type": "code",
      "metadata": {
        "id": "SI7vfSiKa6JA",
        "colab_type": "code",
        "colab": {}
      },
      "source": [
        "def one_hot_label(image, label):\n",
        "    label = tf.one_hot(label, NUM_CLASSES)\n",
        "    return image, label\n",
        "\n",
        "train_ds = train_ds.map(one_hot_label, num_parallel_calls=AUTOTUNE)\n",
        "val_ds = val_ds.map(one_hot_label, num_parallel_calls=AUTOTUNE)\n",
        "train_ds = train_ds.cache().prefetch(buffer_size=AUTOTUNE)\n",
        "val_ds = val_ds.cache().prefetch(buffer_size=AUTOTUNE)"
      ],
      "execution_count": 15,
      "outputs": []
    },
    {
      "cell_type": "markdown",
      "metadata": {
        "id": "g6WQ-AWEa6JT",
        "colab_type": "text"
      },
      "source": [
        "# Deciding a Metric\n",
        "\n",
        "The most conventional metric to use is probably accuracy. Accuracy, however, cannot be used for imbalanced datasets. Let's check how many images are in each class for our training data."
      ]
    },
    {
      "cell_type": "code",
      "metadata": {
        "id": "pCbdKh3wa6JV",
        "colab_type": "code",
        "colab": {}
      },
      "source": [
        "NUM_IMAGES = []\n",
        "\n",
        "for label in class_names:\n",
        "    dir_name = \"Alzheimer_s Dataset/train/\" + label[:-2] + 'ed'\n",
        "    NUM_IMAGES.append(len([name for name in os.listdir(dir_name)]))"
      ],
      "execution_count": 17,
      "outputs": []
    },
    {
      "cell_type": "code",
      "metadata": {
        "id": "7I8SAas0a6Jd",
        "colab_type": "code",
        "colab": {
          "base_uri": "https://localhost:8080/",
          "height": 35
        },
        "outputId": "a3c4677d-735c-440b-8a88-9360e12b412c"
      },
      "source": [
        "NUM_IMAGES"
      ],
      "execution_count": 27,
      "outputs": [
        {
          "output_type": "execute_result",
          "data": {
            "text/plain": [
              "[717, 52, 2560, 1792]"
            ]
          },
          "metadata": {
            "tags": []
          },
          "execution_count": 27
        }
      ]
    },
    {
      "cell_type": "markdown",
      "metadata": {
        "id": "MDBlvuL4a6Jt",
        "colab_type": "text"
      },
      "source": [
        "# Build the ML Model\n"
      ]
    },
    {
      "cell_type": "code",
      "metadata": {
        "id": "_7seCaMwa6Ju",
        "colab_type": "code",
        "colab": {}
      },
      "source": [
        "def conv_block(filters):\n",
        "    block = tf.keras.Sequential([\n",
        "        tf.keras.layers.SeparableConv2D(filters, 3, activation='relu', padding='same'),\n",
        "        tf.keras.layers.SeparableConv2D(filters, 3, activation='relu', padding='same'),\n",
        "        tf.keras.layers.BatchNormalization(),\n",
        "        tf.keras.layers.MaxPool2D()\n",
        "    ]\n",
        "    )\n",
        "    \n",
        "    return block"
      ],
      "execution_count": 42,
      "outputs": []
    },
    {
      "cell_type": "code",
      "metadata": {
        "id": "lYn2hX73a6J3",
        "colab_type": "code",
        "colab": {}
      },
      "source": [
        "def dense_block(units, dropout_rate):\n",
        "    block = tf.keras.Sequential([\n",
        "        tf.keras.layers.Dense(units, activation='relu'),\n",
        "        tf.keras.layers.BatchNormalization(),\n",
        "        tf.keras.layers.Dropout(dropout_rate)\n",
        "    ])\n",
        "    \n",
        "    return block"
      ],
      "execution_count": 43,
      "outputs": []
    },
    {
      "cell_type": "code",
      "metadata": {
        "id": "udKinU4Xa6J8",
        "colab_type": "code",
        "colab": {}
      },
      "source": [
        "def build_model():\n",
        "    model = tf.keras.Sequential([\n",
        "        tf.keras.Input(shape=(*IMAGE_SIZE, 3)),\n",
        "        \n",
        "        tf.keras.layers.Conv2D(32, 3, activation='relu', padding='same'),\n",
        "        tf.keras.layers.Conv2D(32, 3, activation='relu', padding='same'),\n",
        "        tf.keras.layers.MaxPool2D(),\n",
        "        \n",
        "        conv_block(64),\n",
        "        conv_block(128),\n",
        "        conv_block(256),\n",
        "        tf.keras.layers.Dropout(0.2),\n",
        "        conv_block(512),\n",
        "        tf.keras.layers.Dropout(0.3),\n",
        "        conv_block(1024),\n",
        "        tf.keras.layers.Flatten(),\n",
        "        dense_block(512, 0.5),\n",
        "        dense_block(128, 0.5),\n",
        "        dense_block(64, 0.3),\n",
        "        \n",
        "        tf.keras.layers.Dense(NUM_CLASSES, activation='softmax')\n",
        "    ])\n",
        "    \n",
        "    return model"
      ],
      "execution_count": 75,
      "outputs": []
    },
    {
      "cell_type": "code",
      "metadata": {
        "id": "e9Z0Nu0ljmXD",
        "colab_type": "code",
        "colab": {
          "base_uri": "https://localhost:8080/",
          "height": 708
        },
        "outputId": "c45860f3-c9db-47af-f782-a31f8bf0cf14"
      },
      "source": [
        "build_model().summary()"
      ],
      "execution_count": 76,
      "outputs": [
        {
          "output_type": "stream",
          "text": [
            "Model: \"sequential_98\"\n",
            "_________________________________________________________________\n",
            "Layer (type)                 Output Shape              Param #   \n",
            "=================================================================\n",
            "conv2d_38 (Conv2D)           (None, 176, 208, 32)      896       \n",
            "_________________________________________________________________\n",
            "conv2d_39 (Conv2D)           (None, 176, 208, 32)      9248      \n",
            "_________________________________________________________________\n",
            "max_pooling2d_61 (MaxPooling (None, 88, 104, 32)       0         \n",
            "_________________________________________________________________\n",
            "sequential_90 (Sequential)   (None, 44, 52, 64)        7392      \n",
            "_________________________________________________________________\n",
            "sequential_91 (Sequential)   (None, 22, 26, 128)       27072     \n",
            "_________________________________________________________________\n",
            "sequential_92 (Sequential)   (None, 11, 13, 256)       103296    \n",
            "_________________________________________________________________\n",
            "dropout_51 (Dropout)         (None, 11, 13, 256)       0         \n",
            "_________________________________________________________________\n",
            "sequential_93 (Sequential)   (None, 5, 6, 512)         403200    \n",
            "_________________________________________________________________\n",
            "dropout_52 (Dropout)         (None, 5, 6, 512)         0         \n",
            "_________________________________________________________________\n",
            "sequential_94 (Sequential)   (None, 2, 3, 1024)        1592832   \n",
            "_________________________________________________________________\n",
            "flatten_11 (Flatten)         (None, 6144)              0         \n",
            "_________________________________________________________________\n",
            "sequential_95 (Sequential)   (None, 512)               3148288   \n",
            "_________________________________________________________________\n",
            "sequential_96 (Sequential)   (None, 128)               66176     \n",
            "_________________________________________________________________\n",
            "sequential_97 (Sequential)   (None, 64)                8512      \n",
            "_________________________________________________________________\n",
            "dense_43 (Dense)             (None, 4)                 260       \n",
            "=================================================================\n",
            "Total params: 5,367,172\n",
            "Trainable params: 5,361,796\n",
            "Non-trainable params: 5,376\n",
            "_________________________________________________________________\n"
          ],
          "name": "stdout"
        }
      ]
    },
    {
      "cell_type": "code",
      "metadata": {
        "id": "Kwfd0Kata6KF",
        "colab_type": "code",
        "colab": {}
      },
      "source": [
        "with strategy.scope():\n",
        "    model = build_model()\n",
        "\n",
        "    METRICS = [tf.keras.metrics.AUC(name='auc')]\n",
        "    \n",
        "    model.compile(\n",
        "        optimizer='adam',\n",
        "        loss=tf.losses.CategoricalCrossentropy(),\n",
        "        metrics=METRICS\n",
        "    )"
      ],
      "execution_count": 77,
      "outputs": []
    },
    {
      "cell_type": "markdown",
      "metadata": {
        "id": "pBHLFWMha6KK",
        "colab_type": "text"
      },
      "source": [
        "# Training the Model\n",
        "\n",
        "To more efficiently train our model. We will be using callbacks to adjust our learning rate and to stop our model once it converges.\n",
        "\n",
        "The [learning rate](https://developers.google.com/machine-learning/glossary#learning-rate) is a very important hyperparameter in the model. Having a LR that is too high will prevent the model from converging. Having a LR that is too slow will make the process too long. Stopping our model early is one mechanism that prevents overfitting."
      ]
    },
    {
      "cell_type": "code",
      "metadata": {
        "id": "QBjlGFW8a6KK",
        "colab_type": "code",
        "colab": {}
      },
      "source": [
        "def exponential_decay(lr0, s):\n",
        "    def exponential_decay_fn(epoch):\n",
        "        return lr0 * 0.1 **(epoch / s)\n",
        "    return exponential_decay_fn\n",
        "\n",
        "exponential_decay_fn = exponential_decay(0.01, 20)\n",
        "\n",
        "lr_scheduler = tf.keras.callbacks.LearningRateScheduler(exponential_decay_fn)\n",
        "\n",
        "checkpoint_cb = tf.keras.callbacks.ModelCheckpoint(\"alzheimer_model.h5\",\n",
        "                                                    save_best_only=True)\n",
        "\n",
        "early_stopping_cb = tf.keras.callbacks.EarlyStopping(patience=10,\n",
        "                                                     restore_best_weights=True)"
      ],
      "execution_count": 78,
      "outputs": []
    },
    {
      "cell_type": "markdown",
      "metadata": {
        "id": "Ch_cfOKra6KQ",
        "colab_type": "text"
      },
      "source": [
        "Let's fit our model!"
      ]
    },
    {
      "cell_type": "code",
      "metadata": {
        "id": "3ir9zLQIa6KU",
        "colab_type": "code",
        "colab": {
          "base_uri": "https://localhost:8080/",
          "height": 1000
        },
        "outputId": "2398d076-a461-4c6b-c5cd-719e64453221"
      },
      "source": [
        "history = model.fit(\n",
        "    train_ds,\n",
        "    validation_data=val_ds,\n",
        "    callbacks=[checkpoint_cb, early_stopping_cb, lr_scheduler],\n",
        "    epochs=EPOCHS\n",
        ")"
      ],
      "execution_count": 79,
      "outputs": [
        {
          "output_type": "stream",
          "text": [
            "Epoch 1/100\n",
            "  2/257 [..............................] - ETA: 12s - loss: 2.2305 - auc: 0.4583WARNING:tensorflow:Callbacks method `on_train_batch_end` is slow compared to the batch time (batch time: 0.0226s vs `on_train_batch_end` time: 0.0776s). Check your callbacks.\n",
            "257/257 [==============================] - 27s 104ms/step - loss: 1.1109 - auc: 0.7776 - val_loss: 0.9322 - val_auc: 0.8242\n",
            "Epoch 2/100\n",
            "257/257 [==============================] - 25s 98ms/step - loss: 0.9860 - auc: 0.8092 - val_loss: 3.2467 - val_auc: 0.7108\n",
            "Epoch 3/100\n",
            "257/257 [==============================] - 25s 97ms/step - loss: 0.9671 - auc: 0.8135 - val_loss: 1.1977 - val_auc: 0.5896\n",
            "Epoch 4/100\n",
            "257/257 [==============================] - 25s 98ms/step - loss: 0.9530 - auc: 0.8181 - val_loss: 1.0019 - val_auc: 0.7832\n",
            "Epoch 5/100\n",
            "257/257 [==============================] - 25s 98ms/step - loss: 0.9568 - auc: 0.8182 - val_loss: 1.8051 - val_auc: 0.5604\n",
            "Epoch 6/100\n",
            "257/257 [==============================] - 25s 97ms/step - loss: 0.9431 - auc: 0.8235 - val_loss: 1.1775 - val_auc: 0.6371\n",
            "Epoch 7/100\n",
            "257/257 [==============================] - 25s 98ms/step - loss: 0.9314 - auc: 0.8305 - val_loss: 1.5789 - val_auc: 0.8024\n",
            "Epoch 8/100\n",
            "257/257 [==============================] - 25s 99ms/step - loss: 0.9173 - auc: 0.8384 - val_loss: 0.9120 - val_auc: 0.8364\n",
            "Epoch 9/100\n",
            "257/257 [==============================] - 25s 99ms/step - loss: 0.9114 - auc: 0.8418 - val_loss: 0.9046 - val_auc: 0.8371\n",
            "Epoch 10/100\n",
            "257/257 [==============================] - 25s 98ms/step - loss: 0.8962 - auc: 0.8457 - val_loss: 1.8285 - val_auc: 0.7831\n",
            "Epoch 11/100\n",
            "257/257 [==============================] - 25s 98ms/step - loss: 0.8884 - auc: 0.8489 - val_loss: 1.0130 - val_auc: 0.7925\n",
            "Epoch 12/100\n",
            "257/257 [==============================] - 25s 98ms/step - loss: 0.8967 - auc: 0.8452 - val_loss: 1.0349 - val_auc: 0.7738\n",
            "Epoch 13/100\n",
            "257/257 [==============================] - 25s 98ms/step - loss: 0.8725 - auc: 0.8551 - val_loss: 0.9332 - val_auc: 0.8363\n",
            "Epoch 14/100\n",
            "257/257 [==============================] - 25s 97ms/step - loss: 0.8634 - auc: 0.8581 - val_loss: 0.9562 - val_auc: 0.8174\n",
            "Epoch 15/100\n",
            "257/257 [==============================] - 25s 98ms/step - loss: 0.8563 - auc: 0.8622 - val_loss: 0.8509 - val_auc: 0.8605\n",
            "Epoch 16/100\n",
            "257/257 [==============================] - 25s 97ms/step - loss: 0.8327 - auc: 0.8695 - val_loss: 0.9649 - val_auc: 0.8537\n",
            "Epoch 17/100\n",
            "257/257 [==============================] - 25s 99ms/step - loss: 0.8121 - auc: 0.8758 - val_loss: 0.8350 - val_auc: 0.8734\n",
            "Epoch 18/100\n",
            "257/257 [==============================] - 25s 97ms/step - loss: 0.7788 - auc: 0.8872 - val_loss: 0.9200 - val_auc: 0.8394\n",
            "Epoch 19/100\n",
            "257/257 [==============================] - 25s 97ms/step - loss: 0.8677 - auc: 0.8573 - val_loss: 0.8613 - val_auc: 0.8536\n",
            "Epoch 20/100\n",
            "257/257 [==============================] - 25s 97ms/step - loss: 0.8162 - auc: 0.8732 - val_loss: 1.5333 - val_auc: 0.8300\n",
            "Epoch 21/100\n",
            "257/257 [==============================] - 25s 98ms/step - loss: 0.7542 - auc: 0.8939 - val_loss: 1.2404 - val_auc: 0.8506\n",
            "Epoch 22/100\n",
            "257/257 [==============================] - 25s 99ms/step - loss: 0.7335 - auc: 0.9009 - val_loss: 0.7644 - val_auc: 0.8908\n",
            "Epoch 23/100\n",
            "257/257 [==============================] - 25s 98ms/step - loss: 0.6807 - auc: 0.9154 - val_loss: 0.8763 - val_auc: 0.8876\n",
            "Epoch 24/100\n",
            "257/257 [==============================] - 25s 99ms/step - loss: 0.6196 - auc: 0.9305 - val_loss: 0.7679 - val_auc: 0.9051\n",
            "Epoch 25/100\n",
            "257/257 [==============================] - 25s 97ms/step - loss: 0.6100 - auc: 0.9324 - val_loss: 0.9731 - val_auc: 0.8749\n",
            "Epoch 26/100\n",
            "257/257 [==============================] - 26s 99ms/step - loss: 0.5667 - auc: 0.9416 - val_loss: 0.6863 - val_auc: 0.9193\n",
            "Epoch 27/100\n",
            "257/257 [==============================] - 25s 99ms/step - loss: 0.5065 - auc: 0.9535 - val_loss: 0.5981 - val_auc: 0.9364\n",
            "Epoch 28/100\n",
            "257/257 [==============================] - 25s 97ms/step - loss: 0.4501 - auc: 0.9631 - val_loss: 0.9252 - val_auc: 0.9082\n",
            "Epoch 29/100\n",
            "257/257 [==============================] - 25s 98ms/step - loss: 0.4179 - auc: 0.9678 - val_loss: 0.4886 - val_auc: 0.9566\n",
            "Epoch 30/100\n",
            "257/257 [==============================] - 25s 97ms/step - loss: 0.3984 - auc: 0.9707 - val_loss: 0.7436 - val_auc: 0.9271\n",
            "Epoch 31/100\n",
            "257/257 [==============================] - 25s 97ms/step - loss: 0.3632 - auc: 0.9758 - val_loss: 0.7122 - val_auc: 0.9162\n",
            "Epoch 32/100\n",
            "257/257 [==============================] - 25s 98ms/step - loss: 0.3390 - auc: 0.9783 - val_loss: 0.4141 - val_auc: 0.9679\n",
            "Epoch 33/100\n",
            "257/257 [==============================] - 25s 99ms/step - loss: 0.3234 - auc: 0.9800 - val_loss: 0.3932 - val_auc: 0.9714\n",
            "Epoch 34/100\n",
            "257/257 [==============================] - 25s 98ms/step - loss: 0.2966 - auc: 0.9832 - val_loss: 0.5950 - val_auc: 0.9430\n",
            "Epoch 35/100\n",
            "257/257 [==============================] - 25s 98ms/step - loss: 0.2735 - auc: 0.9858 - val_loss: 0.4031 - val_auc: 0.9709\n",
            "Epoch 36/100\n",
            "257/257 [==============================] - 26s 99ms/step - loss: 0.2507 - auc: 0.9876 - val_loss: 0.3676 - val_auc: 0.9752\n",
            "Epoch 37/100\n",
            "257/257 [==============================] - 25s 99ms/step - loss: 0.2432 - auc: 0.9882 - val_loss: 0.3664 - val_auc: 0.9757\n",
            "Epoch 38/100\n",
            "257/257 [==============================] - 25s 99ms/step - loss: 0.2378 - auc: 0.9882 - val_loss: 0.3393 - val_auc: 0.9786\n",
            "Epoch 39/100\n",
            "257/257 [==============================] - 25s 97ms/step - loss: 0.2194 - auc: 0.9902 - val_loss: 0.3474 - val_auc: 0.9774\n",
            "Epoch 40/100\n",
            "257/257 [==============================] - 25s 99ms/step - loss: 0.2099 - auc: 0.9912 - val_loss: 0.3227 - val_auc: 0.9794\n",
            "Epoch 41/100\n",
            "257/257 [==============================] - 25s 98ms/step - loss: 0.2053 - auc: 0.9910 - val_loss: 0.3382 - val_auc: 0.9780\n",
            "Epoch 42/100\n",
            "257/257 [==============================] - 25s 98ms/step - loss: 0.1919 - auc: 0.9922 - val_loss: 0.3322 - val_auc: 0.9790\n",
            "Epoch 43/100\n",
            "257/257 [==============================] - 25s 98ms/step - loss: 0.1879 - auc: 0.9922 - val_loss: 0.3456 - val_auc: 0.9777\n",
            "Epoch 44/100\n",
            "257/257 [==============================] - 25s 97ms/step - loss: 0.1742 - auc: 0.9932 - val_loss: 0.3280 - val_auc: 0.9791\n",
            "Epoch 45/100\n",
            "257/257 [==============================] - 25s 98ms/step - loss: 0.1691 - auc: 0.9939 - val_loss: 0.3481 - val_auc: 0.9781\n",
            "Epoch 46/100\n",
            "257/257 [==============================] - 25s 98ms/step - loss: 0.1656 - auc: 0.9937 - val_loss: 0.3519 - val_auc: 0.9776\n",
            "Epoch 47/100\n",
            "257/257 [==============================] - 25s 97ms/step - loss: 0.1672 - auc: 0.9936 - val_loss: 0.3312 - val_auc: 0.9786\n",
            "Epoch 48/100\n",
            "257/257 [==============================] - 25s 98ms/step - loss: 0.1684 - auc: 0.9935 - val_loss: 0.3229 - val_auc: 0.9796\n",
            "Epoch 49/100\n",
            "257/257 [==============================] - 25s 99ms/step - loss: 0.1552 - auc: 0.9946 - val_loss: 0.3227 - val_auc: 0.9798\n",
            "Epoch 50/100\n",
            "257/257 [==============================] - 25s 98ms/step - loss: 0.1533 - auc: 0.9944 - val_loss: 0.3295 - val_auc: 0.9795\n",
            "Epoch 51/100\n",
            "257/257 [==============================] - 25s 98ms/step - loss: 0.1512 - auc: 0.9945 - val_loss: 0.3359 - val_auc: 0.9784\n",
            "Epoch 52/100\n",
            "257/257 [==============================] - 25s 97ms/step - loss: 0.1455 - auc: 0.9949 - val_loss: 0.3335 - val_auc: 0.9792\n",
            "Epoch 53/100\n",
            "257/257 [==============================] - 25s 98ms/step - loss: 0.1455 - auc: 0.9951 - val_loss: 0.3265 - val_auc: 0.9801\n",
            "Epoch 54/100\n",
            "257/257 [==============================] - 25s 97ms/step - loss: 0.1385 - auc: 0.9956 - val_loss: 0.3278 - val_auc: 0.9791\n",
            "Epoch 55/100\n",
            "257/257 [==============================] - 25s 97ms/step - loss: 0.1439 - auc: 0.9945 - val_loss: 0.3327 - val_auc: 0.9784\n",
            "Epoch 56/100\n",
            "257/257 [==============================] - 25s 97ms/step - loss: 0.1451 - auc: 0.9946 - val_loss: 0.3329 - val_auc: 0.9782\n",
            "Epoch 57/100\n",
            "257/257 [==============================] - 25s 98ms/step - loss: 0.1422 - auc: 0.9953 - val_loss: 0.3294 - val_auc: 0.9788\n",
            "Epoch 58/100\n",
            "257/257 [==============================] - 25s 98ms/step - loss: 0.1360 - auc: 0.9954 - val_loss: 0.3320 - val_auc: 0.9790\n",
            "Epoch 59/100\n",
            "257/257 [==============================] - 25s 98ms/step - loss: 0.1288 - auc: 0.9955 - val_loss: 0.3329 - val_auc: 0.9785\n"
          ],
          "name": "stdout"
        }
      ]
    },
    {
      "cell_type": "markdown",
      "metadata": {
        "id": "F2Ly5NnVa6Kc",
        "colab_type": "text"
      },
      "source": [
        "# Visualize Model Metrics\n",
        "\n",
        "Let's graph the ROC AUC metric and loss after each epoch for the training and validation data. Although we didn't use a random seed for our notebook, the results may slightly vary, generally the scores for the validataion data is similar, if not better, than the training dataset."
      ]
    },
    {
      "cell_type": "code",
      "metadata": {
        "id": "H-moLVcNa6Kc",
        "colab_type": "code",
        "colab": {
          "base_uri": "https://localhost:8080/",
          "height": 232
        },
        "outputId": "db5dc739-31e2-4132-eef6-9a8c9eb6b7df"
      },
      "source": [
        "fig, ax = plt.subplots(1, 2, figsize=(20, 3))\n",
        "ax = ax.ravel()\n",
        "\n",
        "for i, met in enumerate(['auc', 'loss']):\n",
        "    ax[i].plot(history.history[met])\n",
        "    ax[i].plot(history.history['val_' + met])\n",
        "    ax[i].set_title('Model {}'.format(met))\n",
        "    ax[i].set_xlabel('epochs')\n",
        "    ax[i].set_ylabel(met)\n",
        "    ax[i].legend(['train', 'val'])"
      ],
      "execution_count": 83,
      "outputs": [
        {
          "output_type": "display_data",
          "data": {
            "image/png": "[encoded data removed]",
            "text/plain": [
              "<Figure size 1440x216 with 2 Axes>"
            ]
          },
          "metadata": {
            "tags": [],
            "needs_background": "light"
          }
        }
      ]
    },
    {
      "cell_type": "markdown",
      "metadata": {
        "id": "G3zWWf5ka6Kj",
        "colab_type": "text"
      },
      "source": [
        "# Evaluate the Model\n",
        "\n",
        "Although we used the validatation dataset to continually evaluate the model, we also have a separate testing dataset. Let's prepare the testing dataset."
      ]
    },
    {
      "cell_type": "code",
      "metadata": {
        "id": "b9fQvNAqa6Kj",
        "colab_type": "code",
        "colab": {
          "base_uri": "https://localhost:8080/",
          "height": 35
        },
        "outputId": "cc9c4ae5-95f1-47b4-a2d5-957da68a7425"
      },
      "source": [
        "test_ds = tf.keras.preprocessing.image_dataset_from_directory(\n",
        "    \"Alzheimer_s Dataset/test\",\n",
        "    image_size=IMAGE_SIZE,\n",
        "    batch_size=BATCH_SIZE,\n",
        ")\n",
        "\n",
        "test_ds = test_ds.map(one_hot_label, num_parallel_calls=AUTOTUNE)\n",
        "test_ds = test_ds.cache().prefetch(buffer_size=AUTOTUNE)"
      ],
      "execution_count": 84,
      "outputs": [
        {
          "output_type": "stream",
          "text": [
            "Found 1279 files belonging to 4 classes.\n"
          ],
          "name": "stdout"
        }
      ]
    },
    {
      "cell_type": "code",
      "metadata": {
        "id": "uEDU-AWaa6Ks",
        "colab_type": "code",
        "colab": {
          "base_uri": "https://localhost:8080/",
          "height": 35
        },
        "outputId": "0bb2b1c1-ccf2-40c1-f8b7-ef1770be29c6"
      },
      "source": [
        "_ = model.evaluate(test_ds)"
      ],
      "execution_count": 85,
      "outputs": [
        {
          "output_type": "stream",
          "text": [
            "80/80 [==============================] - 2s 20ms/step - loss: 1.4372 - auc: 0.8385\n"
          ],
          "name": "stdout"
        }
      ]
    },
    {
      "cell_type": "code",
      "metadata": {
        "id": "3vb75hxxa6Ky",
        "colab_type": "code",
        "colab": {}
      },
      "source": [
        ""
      ],
      "execution_count": null,
      "outputs": []
    },
    {
      "cell_type": "markdown",
      "metadata": {
        "id": "D_XVYau341iG",
        "colab_type": "text"
      },
      "source": [
        "<h6>Futher todo:</h6>\n",
        "There is huge difference in AUC score on test dataset,crossverify the data available in test set and augment accordingly<br/>\n",
        "Usage of Gradcam to capture the region the model is looking at raw images.<br />\n",
        "analyse the missclassified images from valid/test folder,and see whither we can introduce augmentation techniques.<br />\n",
        "Apply stratified k-fold to get optimal results outoff modelling part.<br />\n",
        "Usage of one cycle poilcy for learning rate scheduler\n",
        "\n",
        "\n"
      ]
    },
    {
      "cell_type": "code",
      "metadata": {
        "id": "j1SdrL8_916Q",
        "colab_type": "code",
        "colab": {}
      },
      "source": [
        ""
      ],
      "execution_count": null,
      "outputs": []
    }
  ]
}