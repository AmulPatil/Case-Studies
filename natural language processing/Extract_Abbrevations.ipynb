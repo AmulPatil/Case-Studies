{
  "nbformat": 4,
  "nbformat_minor": 0,
  "metadata": {
    "colab": {
      "name": "Extract Abbrevations.ipynb",
      "provenance": []
    },
    "kernelspec": {
      "name": "python3",
      "display_name": "Python 3"
    }
  },
  "cells": [
    {
      "cell_type": "code",
      "metadata": {
        "id": "r3rb_hdTyluI",
        "colab_type": "code",
        "colab": {
          "base_uri": "https://localhost:8080/",
          "height": 52
        },
        "outputId": "8cbfffe3-1ad9-4872-ae0b-5f857063fc32"
      },
      "source": [
        "!pip install abbreviations"
      ],
      "execution_count": 1,
      "outputs": [
        {
          "output_type": "stream",
          "text": [
            "Requirement already satisfied: abbreviations in /usr/local/lib/python3.6/dist-packages (0.2.5)\n",
            "Requirement already satisfied: regex in /usr/local/lib/python3.6/dist-packages (from abbreviations) (2019.12.20)\n"
          ],
          "name": "stdout"
        }
      ]
    },
    {
      "cell_type": "markdown",
      "metadata": {
        "id": "XIvt79lly562",
        "colab_type": "text"
      },
      "source": [
        "Reference docs related to schwartz_hearst method----- https://psb.stanford.edu/psb-online/proceedings/psb03/schwartz.pdf"
      ]
    },
    {
      "cell_type": "code",
      "metadata": {
        "id": "jTznzyh7vpAJ",
        "colab_type": "code",
        "colab": {}
      },
      "source": [
        "import pandas as pd\n",
        "from abbreviations import schwartz_hearst"
      ],
      "execution_count": 2,
      "outputs": []
    },
    {
      "cell_type": "markdown",
      "metadata": {
        "id": "r5jb_kiy8CnY",
        "colab_type": "text"
      },
      "source": [
        "These are some of the text which are taken from web which include abbrevations and we will extract those through schwartz_hearst method were we can extract words with the abbrevations without any knowledge of the corpus or context regarding the sentence\"\n",
        "      "
      ]
    },
    {
      "cell_type": "code",
      "metadata": {
        "id": "c_Ijd9Xn2dPn",
        "colab_type": "code",
        "colab": {}
      },
      "source": [
        "text = 'LF is in front of SF, and SF is in brackets or square brackets, e.g.  heat shock protein (HSP); A medical report is a comprehensive report (CR)that covers a persons clinical history. A medical report is a vital piece of evidence that can validate and support your claim for Social Security Disability benefits. In the analysis of false-positive (FP) pairs produced by our system .Clinically,  body mass index (BMI) and blood pressure (BP)  are important physiological parameters linked to obesity and can be easily measured. Odds ratio (OR) is a commonly reported statistical parameter in epidemiology and since medical conditions appears to dominate this list'"
      ],
      "execution_count": 6,
      "outputs": []
    },
    {
      "cell_type": "code",
      "metadata": {
        "id": "bkY2bPAP8ifj",
        "colab_type": "code",
        "colab": {
          "base_uri": "https://localhost:8080/",
          "height": 54
        },
        "outputId": "6ca6fd9b-8920-4ce3-888f-b6417fc40f7e"
      },
      "source": [
        "print(text)"
      ],
      "execution_count": 7,
      "outputs": [
        {
          "output_type": "stream",
          "text": [
            "LF is in front of SF, and SF is in brackets or square brackets, e.g.  heat shock protein (HSP); A medical report is a comprehensive report (CR)that covers a persons clinical history. A medical report is a vital piece of evidence that can validate and support your claim for Social Security Disability benefits. In the analysis of false-positive (FP) pairs produced by our system .Clinically,  body mass index (BMI) and blood pressure (BP)  are important physiological parameters linked to obesity and can be easily measured. Odds ratio (OR) is a commonly reported statistical parameter in epidemiology and since medical conditions appears to dominate this list\n"
          ],
          "name": "stdout"
        }
      ]
    },
    {
      "cell_type": "code",
      "metadata": {
        "id": "rEB9DYrHylzp",
        "colab_type": "code",
        "colab": {
          "base_uri": "https://localhost:8080/",
          "height": 123
        },
        "outputId": "a2ce14c8-c830-4ae7-ba69-58c1d90ffe23"
      },
      "source": [
        "\n",
        "\n",
        "# By default, the most recently encountered definition for each term is returned\n",
        "pairs = schwartz_hearst.extract_abbreviation_definition_pairs(doc_text=text)\n",
        "pairs"
      ],
      "execution_count": 8,
      "outputs": [
        {
          "output_type": "execute_result",
          "data": {
            "text/plain": [
              "{'BMI': 'body mass index',\n",
              " 'BP': 'blood pressure',\n",
              " 'CR': 'comprehensive report',\n",
              " 'FP': 'false-positive',\n",
              " 'HSP': 'heat shock protein',\n",
              " 'OR': 'Odds ratio'}"
            ]
          },
          "metadata": {
            "tags": []
          },
          "execution_count": 8
        }
      ]
    },
    {
      "cell_type": "markdown",
      "metadata": {
        "id": "cxOoE2_X8uRx",
        "colab_type": "text"
      },
      "source": [
        "we have successfully extracted abbrevations from the text dataset.Some of the contrains of above library<br/>\n",
        " \n",
        "*   Short forms are required to be inside square brackets'()' followed by its abbrevation<br/>\n",
        "*   Above implementation is basic method for extraction of abbrevations\n",
        "\n",
        "\n"
      ]
    }
  ]
}