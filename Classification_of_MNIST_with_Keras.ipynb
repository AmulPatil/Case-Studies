{
  "nbformat": 4,
  "nbformat_minor": 0,
  "metadata": {
    "colab": {
      "name": "Classification of MNIST with Keras.ipynb",
      "provenance": [],
      "collapsed_sections": [],
      "include_colab_link": true
    },
    "kernelspec": {
      "name": "python3",
      "display_name": "Python 3"
    },
    "accelerator": "GPU"
  },
  "cells": [
    {
      "cell_type": "markdown",
      "metadata": {
        "id": "view-in-github",
        "colab_type": "text"
      },
      "source": [
        "<a href=\"https://colab.research.google.com/github/AmulPatil/Case-Studies/blob/master/Classification_of_MNIST_with_Keras.ipynb\" target=\"_parent\"><img src=\"https://colab.research.google.com/assets/colab-badge.svg\" alt=\"Open In Colab\"/></a>"
      ]
    },
    {
      "cell_type": "markdown",
      "metadata": {
        "id": "5dhYPFBwap-w",
        "colab_type": "text"
      },
      "source": [
        "To Achieve two main objectives for this script to classify MNIST dataset,they are:\n",
        "\n",
        "\n",
        "*   Minimum number of parameters usage in the Neural Network\n",
        "*   Achieve high accuracy,Since its balanced dataset we will focus on accuracy as metrics to improve\n",
        "\n"
      ]
    },
    {
      "cell_type": "code",
      "metadata": {
        "id": "3_uOi6YlZXl6",
        "colab_type": "code",
        "outputId": "f40322b4-b63c-49b5-cd1a-e49326e67f44",
        "colab": {
          "base_uri": "https://localhost:8080/",
          "height": 283
        }
      },
      "source": [
        "!pip install -U keras"
      ],
      "execution_count": 0,
      "outputs": [
        {
          "output_type": "stream",
          "text": [
            "Collecting keras\n",
            "\u001b[?25l  Downloading https://files.pythonhosted.org/packages/ad/fd/6bfe87920d7f4fd475acd28500a42482b6b84479832bdc0fe9e589a60ceb/Keras-2.3.1-py2.py3-none-any.whl (377kB)\n",
            "\r\u001b[K     |▉                               | 10kB 26.0MB/s eta 0:00:01\r\u001b[K     |█▊                              | 20kB 6.2MB/s eta 0:00:01\r\u001b[K     |██▋                             | 30kB 7.6MB/s eta 0:00:01\r\u001b[K     |███▌                            | 40kB 5.8MB/s eta 0:00:01\r\u001b[K     |████▍                           | 51kB 6.6MB/s eta 0:00:01\r\u001b[K     |█████▏                          | 61kB 7.8MB/s eta 0:00:01\r\u001b[K     |██████                          | 71kB 7.4MB/s eta 0:00:01\r\u001b[K     |███████                         | 81kB 7.1MB/s eta 0:00:01\r\u001b[K     |███████▉                        | 92kB 7.9MB/s eta 0:00:01\r\u001b[K     |████████▊                       | 102kB 8.0MB/s eta 0:00:01\r\u001b[K     |█████████▌                      | 112kB 8.0MB/s eta 0:00:01\r\u001b[K     |██████████▍                     | 122kB 8.0MB/s eta 0:00:01\r\u001b[K     |███████████▎                    | 133kB 8.0MB/s eta 0:00:01\r\u001b[K     |████████████▏                   | 143kB 8.0MB/s eta 0:00:01\r\u001b[K     |█████████████                   | 153kB 8.0MB/s eta 0:00:01\r\u001b[K     |█████████████▉                  | 163kB 8.0MB/s eta 0:00:01\r\u001b[K     |██████████████▊                 | 174kB 8.0MB/s eta 0:00:01\r\u001b[K     |███████████████▋                | 184kB 8.0MB/s eta 0:00:01\r\u001b[K     |████████████████▌               | 194kB 8.0MB/s eta 0:00:01\r\u001b[K     |█████████████████▍              | 204kB 8.0MB/s eta 0:00:01\r\u001b[K     |██████████████████▏             | 215kB 8.0MB/s eta 0:00:01\r\u001b[K     |███████████████████             | 225kB 8.0MB/s eta 0:00:01\r\u001b[K     |████████████████████            | 235kB 8.0MB/s eta 0:00:01\r\u001b[K     |████████████████████▉           | 245kB 8.0MB/s eta 0:00:01\r\u001b[K     |█████████████████████▊          | 256kB 8.0MB/s eta 0:00:01\r\u001b[K     |██████████████████████▌         | 266kB 8.0MB/s eta 0:00:01\r\u001b[K     |███████████████████████▍        | 276kB 8.0MB/s eta 0:00:01\r\u001b[K     |████████████████████████▎       | 286kB 8.0MB/s eta 0:00:01\r\u001b[K     |█████████████████████████▏      | 296kB 8.0MB/s eta 0:00:01\r\u001b[K     |██████████████████████████      | 307kB 8.0MB/s eta 0:00:01\r\u001b[K     |██████████████████████████▉     | 317kB 8.0MB/s eta 0:00:01\r\u001b[K     |███████████████████████████▊    | 327kB 8.0MB/s eta 0:00:01\r\u001b[K     |████████████████████████████▋   | 337kB 8.0MB/s eta 0:00:01\r\u001b[K     |█████████████████████████████▌  | 348kB 8.0MB/s eta 0:00:01\r\u001b[K     |██████████████████████████████▍ | 358kB 8.0MB/s eta 0:00:01\r\u001b[K     |███████████████████████████████▏| 368kB 8.0MB/s eta 0:00:01\r\u001b[K     |████████████████████████████████| 378kB 8.0MB/s \n",
            "\u001b[?25hRequirement already satisfied, skipping upgrade: h5py in /usr/local/lib/python3.6/dist-packages (from keras) (2.10.0)\n",
            "Requirement already satisfied, skipping upgrade: six>=1.9.0 in /usr/local/lib/python3.6/dist-packages (from keras) (1.12.0)\n",
            "Requirement already satisfied, skipping upgrade: scipy>=0.14 in /usr/local/lib/python3.6/dist-packages (from keras) (1.4.1)\n",
            "Requirement already satisfied, skipping upgrade: numpy>=1.9.1 in /usr/local/lib/python3.6/dist-packages (from keras) (1.18.2)\n",
            "Requirement already satisfied, skipping upgrade: keras-applications>=1.0.6 in /usr/local/lib/python3.6/dist-packages (from keras) (1.0.8)\n",
            "Requirement already satisfied, skipping upgrade: pyyaml in /usr/local/lib/python3.6/dist-packages (from keras) (3.13)\n",
            "Requirement already satisfied, skipping upgrade: keras-preprocessing>=1.0.5 in /usr/local/lib/python3.6/dist-packages (from keras) (1.1.0)\n",
            "Installing collected packages: keras\n",
            "  Found existing installation: Keras 2.2.5\n",
            "    Uninstalling Keras-2.2.5:\n",
            "      Successfully uninstalled Keras-2.2.5\n",
            "Successfully installed keras-2.3.1\n"
          ],
          "name": "stdout"
        }
      ]
    },
    {
      "cell_type": "markdown",
      "metadata": {
        "id": "aNyZv-Ec52ot",
        "colab_type": "text"
      },
      "source": [
        "# **Import Libraries and modules**"
      ]
    },
    {
      "cell_type": "code",
      "metadata": {
        "id": "Eso6UHE080D4",
        "colab_type": "code",
        "outputId": "2480c5b2-6427-4e17-ea75-b02655935359",
        "colab": {
          "base_uri": "https://localhost:8080/",
          "height": 34
        }
      },
      "source": [
        "import keras\n",
        "from keras.models import Sequential\n",
        "from keras.layers import Dense, Dropout, Activation, Flatten, Add, BatchNormalization\n",
        "from keras.layers import Convolution2D, MaxPooling2D\n",
        "from keras.utils import np_utils\n",
        "from keras.datasets import mnist\n",
        "from keras.optimizers import Adam\n",
        "from keras.preprocessing.image import ImageDataGenerator\n",
        "from keras.callbacks import LearningRateScheduler,ModelCheckpoint\n",
        "from keras.layers import Activation\n",
        "\n",
        "import numpy as np\n",
        "from matplotlib import pyplot as plt\n",
        "\n",
        "from pylab import rcParams\n",
        "rcParams['figure.figsize'] = 15, 12\n",
        "%matplotlib inline"
      ],
      "execution_count": 0,
      "outputs": [
        {
          "output_type": "stream",
          "text": [
            "Using TensorFlow backend.\n"
          ],
          "name": "stderr"
        }
      ]
    },
    {
      "cell_type": "markdown",
      "metadata": {
        "id": "zByEi95J86RD",
        "colab_type": "text"
      },
      "source": [
        "### Load pre-shuffled MNIST data into train and test sets"
      ]
    },
    {
      "cell_type": "code",
      "metadata": {
        "id": "7eRM0QWN83PV",
        "colab_type": "code",
        "outputId": "583ba6c1-0afa-4a99-f81c-59ba7a0332f2",
        "colab": {
          "base_uri": "https://localhost:8080/",
          "height": 52
        }
      },
      "source": [
        "(X_train, y_train), (X_test, y_test) = mnist.load_data()"
      ],
      "execution_count": 0,
      "outputs": [
        {
          "output_type": "stream",
          "text": [
            "Downloading data from https://s3.amazonaws.com/img-datasets/mnist.npz\n",
            "11493376/11490434 [==============================] - 1s 0us/step\n"
          ],
          "name": "stdout"
        }
      ]
    },
    {
      "cell_type": "code",
      "metadata": {
        "id": "4a4Be72j8-ZC",
        "colab_type": "code",
        "outputId": "dc45f642-2f1e-47c6-80fa-8c183200dcba",
        "colab": {
          "base_uri": "https://localhost:8080/",
          "height": 300
        }
      },
      "source": [
        "print (X_train.shape)\n",
        "plt.imshow(X_train[0])"
      ],
      "execution_count": 0,
      "outputs": [
        {
          "output_type": "stream",
          "text": [
            "(60000, 28, 28)\n"
          ],
          "name": "stdout"
        },
        {
          "output_type": "execute_result",
          "data": {
            "text/plain": [
              "<matplotlib.image.AxesImage at 0x7f16f4d3c0f0>"
            ]
          },
          "metadata": {
            "tags": []
          },
          "execution_count": 4
        },
        {
          "output_type": "display_data",
          "data": {
            "image/png": "[encoded data removed]",
            "text/plain": [
              "<Figure size 432x288 with 1 Axes>"
            ]
          },
          "metadata": {
            "tags": []
          }
        }
      ]
    },
    {
      "cell_type": "code",
      "metadata": {
        "id": "dkmprriw9AnZ",
        "colab_type": "code",
        "colab": {}
      },
      "source": [
        "X_train = X_train.reshape(X_train.shape[0], 28, 28,1)\n",
        "X_test = X_test.reshape(X_test.shape[0], 28, 28,1)"
      ],
      "execution_count": 0,
      "outputs": []
    },
    {
      "cell_type": "code",
      "metadata": {
        "id": "X2m4YS4E9CRh",
        "colab_type": "code",
        "colab": {}
      },
      "source": [
        "# Convert data type to 32-bit precision which is required for  training a neural network\n",
        "X_train = X_train.astype('float32')\n",
        "X_test = X_test.astype('float32')\n",
        "# Normalize pixel values to be between 0 and 1\n",
        "X_train, X_test = X_train / 255.0, X_test / 255.0\n"
      ],
      "execution_count": 0,
      "outputs": []
    },
    {
      "cell_type": "code",
      "metadata": {
        "id": "0Mn0vAYD9DvB",
        "colab_type": "code",
        "outputId": "7a8430a7-e952-46f9-aa26-77bd26bc5660",
        "colab": {
          "base_uri": "https://localhost:8080/",
          "height": 34
        }
      },
      "source": [
        "y_train[:10]"
      ],
      "execution_count": 0,
      "outputs": [
        {
          "output_type": "execute_result",
          "data": {
            "text/plain": [
              "array([5, 0, 4, 1, 9, 2, 1, 3, 1, 4], dtype=uint8)"
            ]
          },
          "metadata": {
            "tags": []
          },
          "execution_count": 7
        }
      ]
    },
    {
      "cell_type": "code",
      "metadata": {
        "id": "ZG8JiXR39FHC",
        "colab_type": "code",
        "colab": {}
      },
      "source": [
        "# Convert 1-dimensional class arrays to 10-dimensional class matrices\n",
        "Y_train = np_utils.to_categorical(y_train, 10)\n",
        "Y_test = np_utils.to_categorical(y_test, 10)"
      ],
      "execution_count": 0,
      "outputs": []
    },
    {
      "cell_type": "markdown",
      "metadata": {
        "id": "ueFZNqjEhS4Q",
        "colab_type": "text"
      },
      "source": [
        "**Initial Structure of the Model**"
      ]
    },
    {
      "cell_type": "markdown",
      "metadata": {
        "id": "vvC9B0OIgf6k",
        "colab_type": "text"
      },
      "source": [
        "lets build a structure where we can cover atleast Receptive Field of around 28 since we have 28 image size for Mnist dataset.\n",
        "And to cover more iteration at one go we are clubbing summary and training logs altogether in one cell"
      ]
    },
    {
      "cell_type": "code",
      "metadata": {
        "id": "Zp6SuGrL9M3h",
        "colab_type": "code",
        "outputId": "5f8be751-d7b6-44ff-b174-0d01b182661d",
        "colab": {
          "base_uri": "https://localhost:8080/",
          "height": 1000
        }
      },
      "source": [
        "model = Sequential()\n",
        "model.add(Convolution2D(8, 3, 3, activation='relu', input_shape=(28,28,1)))\n",
        "model.add(Convolution2D(16, 3, 3, activation='relu'))\n",
        "model.add(Convolution2D(24, 3, 3, activation='relu'))\n",
        "model.add(MaxPooling2D(pool_size=(2, 2)))\n",
        "model.add(Convolution2D(10, 1, activation='relu'))\n",
        "model.add(Convolution2D(32, 3, 3, activation='relu'))\n",
        "model.add(MaxPooling2D(pool_size=(2, 2)))\n",
        "model.add(Convolution2D(10, 1, activation='relu'))\n",
        "model.add(Convolution2D(10, 4))\n",
        "model.add(Flatten())\n",
        "model.add(Activation('softmax'))\n",
        "model.summary()\n",
        "model.compile(loss='categorical_crossentropy',\n",
        "             optimizer='adam',\n",
        "             metrics=['accuracy'])\n",
        "model.fit(X_train, Y_train, batch_size=32, epochs=15, verbose=1, validation_data=(X_test, Y_test))"
      ],
      "execution_count": 0,
      "outputs": [
        {
          "output_type": "stream",
          "text": [
            "/usr/local/lib/python3.6/dist-packages/ipykernel_launcher.py:2: UserWarning: Update your `Conv2D` call to the Keras 2 API: `Conv2D(8, (3, 3), activation=\"relu\", input_shape=(28, 28, 1...)`\n",
            "  \n",
            "/usr/local/lib/python3.6/dist-packages/ipykernel_launcher.py:3: UserWarning: Update your `Conv2D` call to the Keras 2 API: `Conv2D(16, (3, 3), activation=\"relu\")`\n",
            "  This is separate from the ipykernel package so we can avoid doing imports until\n",
            "/usr/local/lib/python3.6/dist-packages/ipykernel_launcher.py:4: UserWarning: Update your `Conv2D` call to the Keras 2 API: `Conv2D(24, (3, 3), activation=\"relu\")`\n",
            "  after removing the cwd from sys.path.\n",
            "/usr/local/lib/python3.6/dist-packages/ipykernel_launcher.py:7: UserWarning: Update your `Conv2D` call to the Keras 2 API: `Conv2D(32, (3, 3), activation=\"relu\")`\n",
            "  import sys\n"
          ],
          "name": "stderr"
        },
        {
          "output_type": "stream",
          "text": [
            "Model: \"sequential_2\"\n",
            "_________________________________________________________________\n",
            "Layer (type)                 Output Shape              Param #   \n",
            "=================================================================\n",
            "conv2d_8 (Conv2D)            (None, 26, 26, 8)         80        \n",
            "_________________________________________________________________\n",
            "conv2d_9 (Conv2D)            (None, 24, 24, 16)        1168      \n",
            "_________________________________________________________________\n",
            "conv2d_10 (Conv2D)           (None, 22, 22, 24)        3480      \n",
            "_________________________________________________________________\n",
            "max_pooling2d_3 (MaxPooling2 (None, 11, 11, 24)        0         \n",
            "_________________________________________________________________\n",
            "conv2d_11 (Conv2D)           (None, 11, 11, 10)        250       \n",
            "_________________________________________________________________\n",
            "conv2d_12 (Conv2D)           (None, 9, 9, 32)          2912      \n",
            "_________________________________________________________________\n",
            "max_pooling2d_4 (MaxPooling2 (None, 4, 4, 32)          0         \n",
            "_________________________________________________________________\n",
            "conv2d_13 (Conv2D)           (None, 4, 4, 10)          330       \n",
            "_________________________________________________________________\n",
            "conv2d_14 (Conv2D)           (None, 1, 1, 10)          1610      \n",
            "_________________________________________________________________\n",
            "flatten_2 (Flatten)          (None, 10)                0         \n",
            "_________________________________________________________________\n",
            "activation_2 (Activation)    (None, 10)                0         \n",
            "=================================================================\n",
            "Total params: 9,830\n",
            "Trainable params: 9,830\n",
            "Non-trainable params: 0\n",
            "_________________________________________________________________\n",
            "Train on 60000 samples, validate on 10000 samples\n",
            "Epoch 1/15\n",
            "60000/60000 [==============================] - 11s 188us/step - loss: 0.2141 - accuracy: 0.9318 - val_loss: 0.0744 - val_accuracy: 0.9773\n",
            "Epoch 2/15\n",
            "60000/60000 [==============================] - 11s 182us/step - loss: 0.0790 - accuracy: 0.9761 - val_loss: 0.0528 - val_accuracy: 0.9838\n",
            "Epoch 3/15\n",
            "60000/60000 [==============================] - 11s 182us/step - loss: 0.0594 - accuracy: 0.9811 - val_loss: 0.0647 - val_accuracy: 0.9808\n",
            "Epoch 4/15\n",
            "60000/60000 [==============================] - 11s 179us/step - loss: 0.0493 - accuracy: 0.9843 - val_loss: 0.0397 - val_accuracy: 0.9858\n",
            "Epoch 5/15\n",
            "60000/60000 [==============================] - 11s 182us/step - loss: 0.0439 - accuracy: 0.9865 - val_loss: 0.0352 - val_accuracy: 0.9875\n",
            "Epoch 6/15\n",
            "60000/60000 [==============================] - 11s 180us/step - loss: 0.0388 - accuracy: 0.9879 - val_loss: 0.0343 - val_accuracy: 0.9895\n",
            "Epoch 7/15\n",
            "60000/60000 [==============================] - 11s 179us/step - loss: 0.0347 - accuracy: 0.9891 - val_loss: 0.0418 - val_accuracy: 0.9875\n",
            "Epoch 8/15\n",
            "60000/60000 [==============================] - 11s 180us/step - loss: 0.0299 - accuracy: 0.9901 - val_loss: 0.0367 - val_accuracy: 0.9888\n",
            "Epoch 9/15\n",
            "60000/60000 [==============================] - 11s 182us/step - loss: 0.0282 - accuracy: 0.9910 - val_loss: 0.0367 - val_accuracy: 0.9880\n",
            "Epoch 10/15\n",
            "60000/60000 [==============================] - 11s 181us/step - loss: 0.0261 - accuracy: 0.9920 - val_loss: 0.0343 - val_accuracy: 0.9896\n",
            "Epoch 11/15\n",
            "60000/60000 [==============================] - 11s 180us/step - loss: 0.0236 - accuracy: 0.9921 - val_loss: 0.0343 - val_accuracy: 0.9898\n",
            "Epoch 12/15\n",
            "60000/60000 [==============================] - 11s 180us/step - loss: 0.0225 - accuracy: 0.9923 - val_loss: 0.0372 - val_accuracy: 0.9883\n",
            "Epoch 13/15\n",
            "60000/60000 [==============================] - 11s 179us/step - loss: 0.0206 - accuracy: 0.9929 - val_loss: 0.0286 - val_accuracy: 0.9915\n",
            "Epoch 14/15\n",
            "60000/60000 [==============================] - 11s 179us/step - loss: 0.0191 - accuracy: 0.9937 - val_loss: 0.0351 - val_accuracy: 0.9897\n",
            "Epoch 15/15\n",
            "60000/60000 [==============================] - 11s 179us/step - loss: 0.0186 - accuracy: 0.9937 - val_loss: 0.0320 - val_accuracy: 0.9898\n"
          ],
          "name": "stdout"
        },
        {
          "output_type": "execute_result",
          "data": {
            "text/plain": [
              "<keras.callbacks.callbacks.History at 0x7f16ce1434a8>"
            ]
          },
          "metadata": {
            "tags": []
          },
          "execution_count": 10
        }
      ]
    },
    {
      "cell_type": "code",
      "metadata": {
        "id": "9My2jUvWfdIR",
        "colab_type": "code",
        "outputId": "045dab38-90a7-4b99-e9b5-6bb968754d96",
        "colab": {
          "base_uri": "https://localhost:8080/",
          "height": 34
        }
      },
      "source": [
        "#Result of first iteration\n",
        "print(model.evaluate(X_test, Y_test, verbose=0))"
      ],
      "execution_count": 0,
      "outputs": [
        {
          "output_type": "stream",
          "text": [
            "[0.03203787759745319, 0.989799976348877]\n"
          ],
          "name": "stdout"
        }
      ]
    },
    {
      "cell_type": "markdown",
      "metadata": {
        "id": "N1dvZRYQg3ga",
        "colab_type": "text"
      },
      "source": [
        "Accuracy of First model came around 98.89% for about 10 epochs with only 9,830 parameters to train ,Nice metrics for first iteration of experiments"
      ]
    },
    {
      "cell_type": "markdown",
      "metadata": {
        "id": "ieyoiwAdhj2i",
        "colab_type": "text"
      },
      "source": [
        "#Second Iteration of Experiment:\n",
        "lets try to increase the batch size & include Batchnorm & reduce the channels to the above structure and observe any improvement in test accuracy"
      ]
    },
    {
      "cell_type": "code",
      "metadata": {
        "id": "AtsH-lLk-eLb",
        "colab_type": "code",
        "outputId": "028e3faa-4b1b-4e19-e8d5-3ff6939fd4fb",
        "colab": {
          "base_uri": "https://localhost:8080/",
          "height": 1000
        }
      },
      "source": [
        "model = Sequential() \n",
        "model.add(Convolution2D(8, 3, 3, activation='relu', input_shape=(28,28,1)))\n",
        "model.add(BatchNormalization())\n",
        "model.add(Convolution2D(12, 3, 3, activation='relu'))\n",
        "model.add(BatchNormalization())\n",
        "model.add(Convolution2D(14, 3, 3, activation='relu'))\n",
        "model.add(MaxPooling2D(pool_size=(2, 2)))\n",
        "model.add(Convolution2D(10, 1, activation='relu'))\n",
        "model.add(BatchNormalization())\n",
        "model.add(Convolution2D(16, 3, 3, activation='relu'))\n",
        "model.add(MaxPooling2D(pool_size=(2, 2)))\n",
        "model.add(Convolution2D(10, 1, activation='relu'))\n",
        "model.add(BatchNormalization())\n",
        "model.add(Convolution2D(10, 4))\n",
        "model.add(Flatten())\n",
        "model.add(Activation('softmax'))\n",
        "model.summary()\n",
        "model.compile(loss='categorical_crossentropy',\n",
        "             optimizer='adam',\n",
        "             metrics=['accuracy'])\n",
        "model.fit(X_train, Y_train, batch_size=256, epochs=15, verbose=1, validation_data=(X_test, Y_test))"
      ],
      "execution_count": 0,
      "outputs": [
        {
          "output_type": "stream",
          "text": [
            "/usr/local/lib/python3.6/dist-packages/ipykernel_launcher.py:2: UserWarning: Update your `Conv2D` call to the Keras 2 API: `Conv2D(8, (3, 3), activation=\"relu\", input_shape=(28, 28, 1...)`\n",
            "  \n",
            "/usr/local/lib/python3.6/dist-packages/ipykernel_launcher.py:4: UserWarning: Update your `Conv2D` call to the Keras 2 API: `Conv2D(12, (3, 3), activation=\"relu\")`\n",
            "  after removing the cwd from sys.path.\n",
            "/usr/local/lib/python3.6/dist-packages/ipykernel_launcher.py:6: UserWarning: Update your `Conv2D` call to the Keras 2 API: `Conv2D(14, (3, 3), activation=\"relu\")`\n",
            "  \n",
            "/usr/local/lib/python3.6/dist-packages/ipykernel_launcher.py:10: UserWarning: Update your `Conv2D` call to the Keras 2 API: `Conv2D(16, (3, 3), activation=\"relu\")`\n",
            "  # Remove the CWD from sys.path while we load stuff.\n"
          ],
          "name": "stderr"
        },
        {
          "output_type": "stream",
          "text": [
            "Model: \"sequential_3\"\n",
            "_________________________________________________________________\n",
            "Layer (type)                 Output Shape              Param #   \n",
            "=================================================================\n",
            "conv2d_15 (Conv2D)           (None, 26, 26, 8)         80        \n",
            "_________________________________________________________________\n",
            "batch_normalization_1 (Batch (None, 26, 26, 8)         32        \n",
            "_________________________________________________________________\n",
            "conv2d_16 (Conv2D)           (None, 24, 24, 12)        876       \n",
            "_________________________________________________________________\n",
            "batch_normalization_2 (Batch (None, 24, 24, 12)        48        \n",
            "_________________________________________________________________\n",
            "conv2d_17 (Conv2D)           (None, 22, 22, 14)        1526      \n",
            "_________________________________________________________________\n",
            "max_pooling2d_5 (MaxPooling2 (None, 11, 11, 14)        0         \n",
            "_________________________________________________________________\n",
            "conv2d_18 (Conv2D)           (None, 11, 11, 10)        150       \n",
            "_________________________________________________________________\n",
            "batch_normalization_3 (Batch (None, 11, 11, 10)        40        \n",
            "_________________________________________________________________\n",
            "conv2d_19 (Conv2D)           (None, 9, 9, 16)          1456      \n",
            "_________________________________________________________________\n",
            "max_pooling2d_6 (MaxPooling2 (None, 4, 4, 16)          0         \n",
            "_________________________________________________________________\n",
            "conv2d_20 (Conv2D)           (None, 4, 4, 10)          170       \n",
            "_________________________________________________________________\n",
            "batch_normalization_4 (Batch (None, 4, 4, 10)          40        \n",
            "_________________________________________________________________\n",
            "conv2d_21 (Conv2D)           (None, 1, 1, 10)          1610      \n",
            "_________________________________________________________________\n",
            "flatten_3 (Flatten)          (None, 10)                0         \n",
            "_________________________________________________________________\n",
            "activation_3 (Activation)    (None, 10)                0         \n",
            "=================================================================\n",
            "Total params: 6,028\n",
            "Trainable params: 5,948\n",
            "Non-trainable params: 80\n",
            "_________________________________________________________________\n",
            "Train on 60000 samples, validate on 10000 samples\n",
            "Epoch 1/15\n",
            "60000/60000 [==============================] - 5s 81us/step - loss: 0.5500 - accuracy: 0.8436 - val_loss: 2.2208 - val_accuracy: 0.2021\n",
            "Epoch 2/15\n",
            "60000/60000 [==============================] - 3s 58us/step - loss: 0.1177 - accuracy: 0.9672 - val_loss: 0.2257 - val_accuracy: 0.9349\n",
            "Epoch 3/15\n",
            "60000/60000 [==============================] - 3s 58us/step - loss: 0.0781 - accuracy: 0.9776 - val_loss: 0.0703 - val_accuracy: 0.9789\n",
            "Epoch 4/15\n",
            "60000/60000 [==============================] - 4s 59us/step - loss: 0.0604 - accuracy: 0.9825 - val_loss: 0.0604 - val_accuracy: 0.9809\n",
            "Epoch 5/15\n",
            "60000/60000 [==============================] - 4s 59us/step - loss: 0.0505 - accuracy: 0.9853 - val_loss: 0.0557 - val_accuracy: 0.9815\n",
            "Epoch 6/15\n",
            "60000/60000 [==============================] - 4s 59us/step - loss: 0.0437 - accuracy: 0.9871 - val_loss: 0.0477 - val_accuracy: 0.9849\n",
            "Epoch 7/15\n",
            "60000/60000 [==============================] - 4s 59us/step - loss: 0.0386 - accuracy: 0.9884 - val_loss: 0.0460 - val_accuracy: 0.9858\n",
            "Epoch 8/15\n",
            "60000/60000 [==============================] - 4s 58us/step - loss: 0.0341 - accuracy: 0.9902 - val_loss: 0.0478 - val_accuracy: 0.9843\n",
            "Epoch 9/15\n",
            "60000/60000 [==============================] - 4s 59us/step - loss: 0.0310 - accuracy: 0.9910 - val_loss: 0.0409 - val_accuracy: 0.9867\n",
            "Epoch 10/15\n",
            "60000/60000 [==============================] - 4s 59us/step - loss: 0.0279 - accuracy: 0.9917 - val_loss: 0.0404 - val_accuracy: 0.9871\n",
            "Epoch 11/15\n",
            "60000/60000 [==============================] - 3s 58us/step - loss: 0.0254 - accuracy: 0.9926 - val_loss: 0.0428 - val_accuracy: 0.9869\n",
            "Epoch 12/15\n",
            "60000/60000 [==============================] - 4s 59us/step - loss: 0.0236 - accuracy: 0.9931 - val_loss: 0.0589 - val_accuracy: 0.9815\n",
            "Epoch 13/15\n",
            "60000/60000 [==============================] - 3s 58us/step - loss: 0.0215 - accuracy: 0.9936 - val_loss: 0.0420 - val_accuracy: 0.9873\n",
            "Epoch 14/15\n",
            "60000/60000 [==============================] - 3s 58us/step - loss: 0.0202 - accuracy: 0.9938 - val_loss: 0.0392 - val_accuracy: 0.9877\n",
            "Epoch 15/15\n",
            "60000/60000 [==============================] - 4s 58us/step - loss: 0.0184 - accuracy: 0.9945 - val_loss: 0.0421 - val_accuracy: 0.9877\n"
          ],
          "name": "stdout"
        },
        {
          "output_type": "execute_result",
          "data": {
            "text/plain": [
              "<keras.callbacks.callbacks.History at 0x7f16c79d69e8>"
            ]
          },
          "metadata": {
            "tags": []
          },
          "execution_count": 13
        }
      ]
    },
    {
      "cell_type": "code",
      "metadata": {
        "id": "KOmXPqJyg9rh",
        "colab_type": "code",
        "outputId": "05199e4c-ae04-4b72-d5be-283bf4788579",
        "colab": {
          "base_uri": "https://localhost:8080/",
          "height": 34
        }
      },
      "source": [
        "#Result of first iteration\n",
        "print(model.evaluate(X_test, Y_test, verbose=0))"
      ],
      "execution_count": 0,
      "outputs": [
        {
          "output_type": "stream",
          "text": [
            "[0.042138277958368414, 0.9876999855041504]\n"
          ],
          "name": "stdout"
        }
      ]
    },
    {
      "cell_type": "markdown",
      "metadata": {
        "id": "ahC_4XP8h41D",
        "colab_type": "text"
      },
      "source": [
        "It wasn't an improvement over the last structure we build but the model did pretty good with less number of parameters involved\n",
        "####so just to achive accuracy greater then 99.0% on unseen dataset we make below changes to the architecture and the parameters of the model\n",
        "\n",
        "\n",
        "*   Normalize the Image Initially\n",
        "*   Increase number of parameters of the model\n",
        "*   Reduce Learning rate once the Accuracy doesn't show any improvements\n",
        "\n",
        "\n",
        "\n",
        "\n"
      ]
    },
    {
      "cell_type": "markdown",
      "metadata": {
        "id": "NdpjmeF7xqHx",
        "colab_type": "text"
      },
      "source": [
        "#Third Iteration of Experiment:"
      ]
    },
    {
      "cell_type": "code",
      "metadata": {
        "id": "aMTv14HcdqC2",
        "colab_type": "code",
        "colab": {}
      },
      "source": [
        "#Image Normalization\n",
        "gen = ImageDataGenerator(featurewise_center=True, featurewise_std_normalization=True)\n",
        "test_gen = ImageDataGenerator()\n",
        "train_generator = gen.flow(X_train, Y_train, batch_size=32)\n",
        "test_generator = gen.flow(X_test, Y_test, batch_size=32)"
      ],
      "execution_count": 0,
      "outputs": []
    },
    {
      "cell_type": "code",
      "metadata": {
        "id": "mkX8JMv79q9r",
        "colab_type": "code",
        "outputId": "eb273ecb-9b56-4d26-b3cd-912435b40934",
        "colab": {
          "base_uri": "https://localhost:8080/",
          "height": 1000
        }
      },
      "source": [
        "model = Sequential()\n",
        " \n",
        "model.add(Convolution2D(16, 3, 3,  input_shape=(28,28,1))) #26\n",
        "model.add(BatchNormalization())\n",
        "model.add(Activation('relu'))\n",
        "model.add(Dropout(0.1))\n",
        "\n",
        "model.add(Convolution2D(32, 3, 3)) #24\n",
        "model.add(BatchNormalization())\n",
        "model.add(Activation('relu'))\n",
        "model.add(Dropout(0.1))\n",
        "\n",
        "model.add(Convolution2D(10, 1, 1)) #22\n",
        "model.add(BatchNormalization())\n",
        "model.add(Activation('relu'))\n",
        "model.add(MaxPooling2D(pool_size=(2, 2)))#11\n",
        "\n",
        "model.add(Convolution2D(16, 3, 3))#9\n",
        "model.add(BatchNormalization())\n",
        "model.add(Activation('relu'))\n",
        "model.add(Dropout(0.1))\n",
        "\n",
        "\n",
        "model.add(Convolution2D(16, 3, 3))#7\n",
        "model.add(BatchNormalization())\n",
        "model.add(Activation('relu'))\n",
        "model.add(Dropout(0.1))\n",
        "\n",
        "\n",
        "model.add(Convolution2D(16, 3, 3))#5\n",
        "model.add(BatchNormalization())\n",
        "model.add(Activation('relu'))\n",
        "model.add(Dropout(0.1))\n",
        "\n",
        "\n",
        "model.add(Convolution2D(16, 3, 3))#3\n",
        "model.add(BatchNormalization())\n",
        "model.add(Activation('relu'))\n",
        "model.add(Dropout(0.1))\n",
        "\n",
        "\n",
        "model.add(Convolution2D(10, 4, 4))\n",
        "model.add(BatchNormalization())\n",
        "model.add(Activation('relu'))\n",
        "model.add(Dropout(0.1))\n",
        "\n",
        "\n",
        "model.add(Flatten())\n",
        "model.add(Activation('softmax'))\n",
        "\n",
        "\n",
        "model.summary()\n",
        "\n",
        "def scheduler(epoch, lr):\n",
        "  return round(0.003 * 1/(1 + 0.319 * epoch), 10)\n",
        "\n",
        "\n",
        "model.compile(loss='categorical_crossentropy', optimizer=Adam(lr=0.003), metrics=['accuracy'])\n",
        "\n",
        "model.fit_generator(train_generator,  epochs=15, \n",
        "                    validation_data=test_generator,  callbacks=[LearningRateScheduler(scheduler, verbose=1)])\n"
      ],
      "execution_count": 0,
      "outputs": [
        {
          "output_type": "stream",
          "text": [
            "/usr/local/lib/python3.6/dist-packages/ipykernel_launcher.py:3: UserWarning: Update your `Conv2D` call to the Keras 2 API: `Conv2D(16, (3, 3), input_shape=(28, 28, 1...)`\n",
            "  This is separate from the ipykernel package so we can avoid doing imports until\n",
            "/usr/local/lib/python3.6/dist-packages/ipykernel_launcher.py:8: UserWarning: Update your `Conv2D` call to the Keras 2 API: `Conv2D(32, (3, 3))`\n",
            "  \n",
            "/usr/local/lib/python3.6/dist-packages/ipykernel_launcher.py:13: UserWarning: Update your `Conv2D` call to the Keras 2 API: `Conv2D(10, (1, 1))`\n",
            "  del sys.path[0]\n",
            "/usr/local/lib/python3.6/dist-packages/ipykernel_launcher.py:18: UserWarning: Update your `Conv2D` call to the Keras 2 API: `Conv2D(16, (3, 3))`\n",
            "/usr/local/lib/python3.6/dist-packages/ipykernel_launcher.py:24: UserWarning: Update your `Conv2D` call to the Keras 2 API: `Conv2D(16, (3, 3))`\n",
            "/usr/local/lib/python3.6/dist-packages/ipykernel_launcher.py:30: UserWarning: Update your `Conv2D` call to the Keras 2 API: `Conv2D(16, (3, 3))`\n",
            "/usr/local/lib/python3.6/dist-packages/ipykernel_launcher.py:36: UserWarning: Update your `Conv2D` call to the Keras 2 API: `Conv2D(16, (3, 3))`\n",
            "/usr/local/lib/python3.6/dist-packages/ipykernel_launcher.py:42: UserWarning: Update your `Conv2D` call to the Keras 2 API: `Conv2D(10, (4, 4))`\n"
          ],
          "name": "stderr"
        },
        {
          "output_type": "stream",
          "text": [
            "Model: \"sequential_5\"\n",
            "_________________________________________________________________\n",
            "Layer (type)                 Output Shape              Param #   \n",
            "=================================================================\n",
            "conv2d_30 (Conv2D)           (None, 26, 26, 16)        160       \n",
            "_________________________________________________________________\n",
            "batch_normalization_13 (Batc (None, 26, 26, 16)        64        \n",
            "_________________________________________________________________\n",
            "activation_13 (Activation)   (None, 26, 26, 16)        0         \n",
            "_________________________________________________________________\n",
            "dropout_8 (Dropout)          (None, 26, 26, 16)        0         \n",
            "_________________________________________________________________\n",
            "conv2d_31 (Conv2D)           (None, 24, 24, 32)        4640      \n",
            "_________________________________________________________________\n",
            "batch_normalization_14 (Batc (None, 24, 24, 32)        128       \n",
            "_________________________________________________________________\n",
            "activation_14 (Activation)   (None, 24, 24, 32)        0         \n",
            "_________________________________________________________________\n",
            "dropout_9 (Dropout)          (None, 24, 24, 32)        0         \n",
            "_________________________________________________________________\n",
            "conv2d_32 (Conv2D)           (None, 24, 24, 10)        330       \n",
            "_________________________________________________________________\n",
            "batch_normalization_15 (Batc (None, 24, 24, 10)        40        \n",
            "_________________________________________________________________\n",
            "activation_15 (Activation)   (None, 24, 24, 10)        0         \n",
            "_________________________________________________________________\n",
            "max_pooling2d_8 (MaxPooling2 (None, 12, 12, 10)        0         \n",
            "_________________________________________________________________\n",
            "conv2d_33 (Conv2D)           (None, 10, 10, 16)        1456      \n",
            "_________________________________________________________________\n",
            "batch_normalization_16 (Batc (None, 10, 10, 16)        64        \n",
            "_________________________________________________________________\n",
            "activation_16 (Activation)   (None, 10, 10, 16)        0         \n",
            "_________________________________________________________________\n",
            "dropout_10 (Dropout)         (None, 10, 10, 16)        0         \n",
            "_________________________________________________________________\n",
            "conv2d_34 (Conv2D)           (None, 8, 8, 16)          2320      \n",
            "_________________________________________________________________\n",
            "batch_normalization_17 (Batc (None, 8, 8, 16)          64        \n",
            "_________________________________________________________________\n",
            "activation_17 (Activation)   (None, 8, 8, 16)          0         \n",
            "_________________________________________________________________\n",
            "dropout_11 (Dropout)         (None, 8, 8, 16)          0         \n",
            "_________________________________________________________________\n",
            "conv2d_35 (Conv2D)           (None, 6, 6, 16)          2320      \n",
            "_________________________________________________________________\n",
            "batch_normalization_18 (Batc (None, 6, 6, 16)          64        \n",
            "_________________________________________________________________\n",
            "activation_18 (Activation)   (None, 6, 6, 16)          0         \n",
            "_________________________________________________________________\n",
            "dropout_12 (Dropout)         (None, 6, 6, 16)          0         \n",
            "_________________________________________________________________\n",
            "conv2d_36 (Conv2D)           (None, 4, 4, 16)          2320      \n",
            "_________________________________________________________________\n",
            "batch_normalization_19 (Batc (None, 4, 4, 16)          64        \n",
            "_________________________________________________________________\n",
            "activation_19 (Activation)   (None, 4, 4, 16)          0         \n",
            "_________________________________________________________________\n",
            "dropout_13 (Dropout)         (None, 4, 4, 16)          0         \n",
            "_________________________________________________________________\n",
            "conv2d_37 (Conv2D)           (None, 1, 1, 10)          2570      \n",
            "_________________________________________________________________\n",
            "batch_normalization_20 (Batc (None, 1, 1, 10)          40        \n",
            "_________________________________________________________________\n",
            "activation_20 (Activation)   (None, 1, 1, 10)          0         \n",
            "_________________________________________________________________\n",
            "dropout_14 (Dropout)         (None, 1, 1, 10)          0         \n",
            "_________________________________________________________________\n",
            "flatten_5 (Flatten)          (None, 10)                0         \n",
            "_________________________________________________________________\n",
            "activation_21 (Activation)   (None, 10)                0         \n",
            "=================================================================\n",
            "Total params: 16,644\n",
            "Trainable params: 16,380\n",
            "Non-trainable params: 264\n",
            "_________________________________________________________________\n",
            "Epoch 1/15\n",
            "\n",
            "Epoch 00001: LearningRateScheduler setting learning rate to 0.003.\n"
          ],
          "name": "stdout"
        },
        {
          "output_type": "stream",
          "text": [
            "/usr/local/lib/python3.6/dist-packages/keras_preprocessing/image/image_data_generator.py:716: UserWarning: This ImageDataGenerator specifies `featurewise_center`, but it hasn't been fit on any training data. Fit it first by calling `.fit(numpy_data)`.\n",
            "  warnings.warn('This ImageDataGenerator specifies '\n",
            "/usr/local/lib/python3.6/dist-packages/keras_preprocessing/image/image_data_generator.py:724: UserWarning: This ImageDataGenerator specifies `featurewise_std_normalization`, but it hasn't been fit on any training data. Fit it first by calling `.fit(numpy_data)`.\n",
            "  warnings.warn('This ImageDataGenerator specifies '\n"
          ],
          "name": "stderr"
        },
        {
          "output_type": "stream",
          "text": [
            "1875/1875 [==============================] - 35s 18ms/step - loss: 0.5607 - accuracy: 0.8370 - val_loss: 0.0307 - val_accuracy: 0.9837\n",
            "Epoch 2/15\n",
            "\n",
            "Epoch 00002: LearningRateScheduler setting learning rate to 0.0022744503.\n",
            "1875/1875 [==============================] - 32s 17ms/step - loss: 0.3905 - accuracy: 0.8726 - val_loss: 0.0703 - val_accuracy: 0.9901\n",
            "Epoch 3/15\n",
            "\n",
            "Epoch 00003: LearningRateScheduler setting learning rate to 0.0018315018.\n",
            "1875/1875 [==============================] - 32s 17ms/step - loss: 0.3556 - accuracy: 0.8812 - val_loss: 0.0144 - val_accuracy: 0.9902\n",
            "Epoch 4/15\n",
            "\n",
            "Epoch 00004: LearningRateScheduler setting learning rate to 0.0015329586.\n",
            "1875/1875 [==============================] - 32s 17ms/step - loss: 0.3388 - accuracy: 0.8828 - val_loss: 0.0105 - val_accuracy: 0.9892\n",
            "Epoch 5/15\n",
            "\n",
            "Epoch 00005: LearningRateScheduler setting learning rate to 0.0013181019.\n",
            "1875/1875 [==============================] - 32s 17ms/step - loss: 0.3335 - accuracy: 0.8837 - val_loss: 0.0088 - val_accuracy: 0.9924\n",
            "Epoch 6/15\n",
            "\n",
            "Epoch 00006: LearningRateScheduler setting learning rate to 0.0011560694.\n",
            "1875/1875 [==============================] - 32s 17ms/step - loss: 0.3222 - accuracy: 0.8860 - val_loss: 0.0024 - val_accuracy: 0.9941\n",
            "Epoch 7/15\n",
            "\n",
            "Epoch 00007: LearningRateScheduler setting learning rate to 0.0010295127.\n",
            "1875/1875 [==============================] - 32s 17ms/step - loss: 0.3208 - accuracy: 0.8865 - val_loss: 0.0096 - val_accuracy: 0.9931\n",
            "Epoch 8/15\n",
            "\n",
            "Epoch 00008: LearningRateScheduler setting learning rate to 0.0009279307.\n",
            "1875/1875 [==============================] - 32s 17ms/step - loss: 0.3126 - accuracy: 0.8888 - val_loss: 0.0027 - val_accuracy: 0.9928\n",
            "Epoch 9/15\n",
            "\n",
            "Epoch 00009: LearningRateScheduler setting learning rate to 0.0008445946.\n",
            "1875/1875 [==============================] - 32s 17ms/step - loss: 0.3070 - accuracy: 0.8905 - val_loss: 0.0040 - val_accuracy: 0.9934\n",
            "Epoch 10/15\n",
            "\n",
            "Epoch 00010: LearningRateScheduler setting learning rate to 0.0007749935.\n",
            "1875/1875 [==============================] - 32s 17ms/step - loss: 0.3120 - accuracy: 0.8882 - val_loss: 0.0046 - val_accuracy: 0.9929\n",
            "Epoch 11/15\n",
            "\n",
            "Epoch 00011: LearningRateScheduler setting learning rate to 0.0007159905.\n",
            "1875/1875 [==============================] - 32s 17ms/step - loss: 0.3073 - accuracy: 0.8887 - val_loss: 0.0765 - val_accuracy: 0.9937\n",
            "Epoch 12/15\n",
            "\n",
            "Epoch 00012: LearningRateScheduler setting learning rate to 0.000665336.\n",
            "1875/1875 [==============================] - 32s 17ms/step - loss: 0.2995 - accuracy: 0.8921 - val_loss: 0.0052 - val_accuracy: 0.9930\n",
            "Epoch 13/15\n",
            "\n",
            "Epoch 00013: LearningRateScheduler setting learning rate to 0.0006213753.\n",
            "1875/1875 [==============================] - 32s 17ms/step - loss: 0.2980 - accuracy: 0.8928 - val_loss: 0.0293 - val_accuracy: 0.9934\n",
            "Epoch 14/15\n",
            "\n",
            "Epoch 00014: LearningRateScheduler setting learning rate to 0.0005828638.\n",
            "1875/1875 [==============================] - 32s 17ms/step - loss: 0.2964 - accuracy: 0.8918 - val_loss: 0.0017 - val_accuracy: 0.9938\n",
            "Epoch 15/15\n",
            "\n",
            "Epoch 00015: LearningRateScheduler setting learning rate to 0.0005488474.\n",
            "1875/1875 [==============================] - 32s 17ms/step - loss: 0.2916 - accuracy: 0.8939 - val_loss: 0.0411 - val_accuracy: 0.9941\n"
          ],
          "name": "stdout"
        },
        {
          "output_type": "execute_result",
          "data": {
            "text/plain": [
              "<keras.callbacks.callbacks.History at 0x7f16c64159e8>"
            ]
          },
          "metadata": {
            "tags": []
          },
          "execution_count": 22
        }
      ]
    },
    {
      "cell_type": "code",
      "metadata": {
        "id": "OCWoJkwE9suh",
        "colab_type": "code",
        "outputId": "8d53d215-8d33-4793-9c7e-751281522713",
        "colab": {
          "base_uri": "https://localhost:8080/",
          "height": 34
        }
      },
      "source": [
        "print(model.evaluate(X_test, Y_test, verbose=0))"
      ],
      "execution_count": 0,
      "outputs": [
        {
          "output_type": "stream",
          "text": [
            "[0.02410577271617949, 0.9940999746322632]\n"
          ],
          "name": "stdout"
        }
      ]
    },
    {
      "cell_type": "markdown",
      "metadata": {
        "id": "7eCZy_NfwFBy",
        "colab_type": "text"
      },
      "source": [
        "**The Final Accuracy of 99.409% reached,with around 16K parameters in the model**"
      ]
    },
    {
      "cell_type": "markdown",
      "metadata": {
        "id": "vSzSEDNJqEFg",
        "colab_type": "text"
      },
      "source": [
        "Let us see count of images  predicted correctly/incorrectly by the model"
      ]
    },
    {
      "cell_type": "code",
      "metadata": {
        "id": "bDTDkflxoZwo",
        "colab_type": "code",
        "outputId": "0b7e45dd-9bda-4645-a9e4-bde43ca93498",
        "colab": {
          "base_uri": "https://localhost:8080/",
          "height": 34
        }
      },
      "source": [
        "# see which we predicted correctly and which not\n",
        "pred=model.predict(X_test)\n",
        "pred_digits=np.argmax(pred,axis=1)\n",
        "actual_labelled = np.argmax(Y_test,axis=1)\n",
        "correct_indices = np.nonzero(pred_digits == actual_labelled)[0]\n",
        "incorrect_indices = np.nonzero(pred_digits != actual_labelled)[0]\n",
        "print(\"classified correctly :- \",len(correct_indices) ,\" classified incorrectly: -\" ,len(incorrect_indices),)\n"
      ],
      "execution_count": 0,
      "outputs": [
        {
          "output_type": "stream",
          "text": [
            "classified correctly :-  9941  classified incorrectly: - 59\n"
          ],
          "name": "stdout"
        }
      ]
    },
    {
      "cell_type": "markdown",
      "metadata": {
        "id": "ubgeMWXhq2A2",
        "colab_type": "text"
      },
      "source": [
        "Now let us see which are Correctly classified images"
      ]
    },
    {
      "cell_type": "code",
      "metadata": {
        "id": "9tvptcn8dxvp",
        "colab_type": "code",
        "outputId": "8925d13d-2693-439e-b235-09313eb4bf63",
        "colab": {
          "base_uri": "https://localhost:8080/",
          "height": 420
        }
      },
      "source": [
        "# adapt figure size to accomodate 18 subplots\n",
        "plt.rcParams['figure.figsize'] = (7,14)\n",
        "# plot 9 correct predictions\n",
        "for i, correct in enumerate(correct_indices[:9]):\n",
        "    plt.subplot(6,3,i+1)\n",
        "    plt.imshow(X_test[correct].reshape(28,28), cmap='gray', interpolation='none')\n",
        "    plt.title(\n",
        "      \"Predicted: {}, Truth: {}\".format(pred_digits[correct],\n",
        "                                        y_test[correct]))\n",
        "    plt.xticks([])\n",
        "    plt.yticks([])\n"
      ],
      "execution_count": 0,
      "outputs": [
        {
          "output_type": "display_data",
          "data": {
            "image/png": "[encoded data removed]",
            "text/plain": [
              "<Figure size 504x1008 with 9 Axes>"
            ]
          },
          "metadata": {
            "tags": []
          }
        }
      ]
    },
    {
      "cell_type": "markdown",
      "metadata": {
        "id": "pDuKBPPHrAp1",
        "colab_type": "text"
      },
      "source": [
        "Now let us see which are missclassified images"
      ]
    },
    {
      "cell_type": "code",
      "metadata": {
        "id": "9DDxEiUSpjVi",
        "colab_type": "code",
        "outputId": "4ff44927-6b60-4e03-de81-dbe6fd52fa01",
        "colab": {
          "base_uri": "https://localhost:8080/",
          "height": 420
        }
      },
      "source": [
        "\n",
        "# plot 9 incorrect predictions\n",
        "for i, incorrect in enumerate(incorrect_indices[:9]):\n",
        "    plt.subplot(6,3,i+10)\n",
        "    plt.imshow(X_test[incorrect].reshape(28,28), cmap='gray', interpolation='none')\n",
        "    plt.title(\n",
        "      \"Predicted {}, Truth: {}\".format(pred_digits[incorrect], \n",
        "                                       y_test[incorrect]))\n",
        "    plt.xticks([])\n",
        "    plt.yticks([])"
      ],
      "execution_count": 0,
      "outputs": [
        {
          "output_type": "display_data",
          "data": {
            "image/png": "[encoded data removed]",
            "text/plain": [
              "<Figure size 504x1008 with 9 Axes>"
            ]
          },
          "metadata": {
            "tags": []
          }
        }
      ]
    },
    {
      "cell_type": "markdown",
      "metadata": {
        "id": "z4wrH-WxwdUG",
        "colab_type": "text"
      },
      "source": [
        "##This is Starter Script for Image classification.In the Next script we will Work on Cifar10 Dataset.\n",
        "Note: Some of the regularization technique's are ignored for this case, like image augmentation technique's which would help in reducing number of parameters in the model aswell as achieve high accuracy simulatneously which would be carried out in the next script for difficult tasks."
      ]
    }
  ]
}